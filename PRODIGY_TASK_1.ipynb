{
  "cells": [
    {
      "cell_type": "markdown",
      "metadata": {
        "id": "view-in-github",
        "colab_type": "text"
      },
      "source": [
        "<a href=\"https://colab.research.google.com/github/Swetha-RV/Prodigy-Task-1/blob/main/PRODIGY_TASK_1.ipynb\" target=\"_parent\"><img src=\"https://colab.research.google.com/assets/colab-badge.svg\" alt=\"Open In Colab\"/></a>"
      ]
    },
    {
      "cell_type": "code",
      "source": [
        "print(\"Caesar Cipher\")\n",
        "\n",
        "def caesar_cipher(text, shift, action):\n",
        "    result = \"\"\n",
        "    for char in text:\n",
        "        if char.isalpha():\n",
        "            start = ord('a') if char.islower() else ord('A')\n",
        "            shift_direction = shift if action == 'e' else -shift\n",
        "            result += chr((ord(char) - start + shift_direction) % 26 + start)\n",
        "        else:\n",
        "            result += char\n",
        "    return result\n",
        "\n",
        "def main():\n",
        "    action = input(\"Please select an option: 'e' for encryption or 'd' for decryption: \").strip().lower()\n",
        "    while action not in ['e', 'd']:\n",
        "        print(\"Invalid selection. Please choose 'e' for encryption or 'd' for decryption.\")\n",
        "        action = input(\"Please select an option: 'e' for encryption or 'd' for decryption: \").strip().lower()\n",
        "\n",
        "    message = input(\"Enter the message: \")\n",
        "    try:\n",
        "        shift = int(input(\"Enter the shift value: \"))\n",
        "    except ValueError:\n",
        "        print(\"Invalid shift value. Please enter an integer.\")\n",
        "        return\n",
        "\n",
        "    result = caesar_cipher(message, shift, action)\n",
        "    action_word = \"Encrypted\" if action == 'e' else \"Decrypted\"\n",
        "    print(f\"\\n{action_word} Message: {result}\")\n",
        "\n",
        "if __name__ == \"__main__\":\n",
        "    main()"
      ],
      "metadata": {
        "id": "v_h9CVBTey8w",
        "outputId": "9913eb90-f9c6-455d-857c-f1b2b505233a",
        "colab": {
          "base_uri": "https://localhost:8080/"
        }
      },
      "execution_count": 2,
      "outputs": [
        {
          "output_type": "stream",
          "name": "stdout",
          "text": [
            "Caesar Cipher\n",
            "Please select an option: 'e' for encryption or 'd' for decryption: D\n",
            "Enter the message: HELLO\n",
            "Enter the shift value: 687\n",
            "\n",
            "Decrypted Message: WTAAD\n"
          ]
        }
      ]
    }
  ],
  "metadata": {
    "colab": {
      "toc_visible": true,
      "provenance": [],
      "include_colab_link": true
    },
    "kernelspec": {
      "display_name": "Python 3",
      "name": "python3"
    }
  },
  "nbformat": 4,
  "nbformat_minor": 0
}